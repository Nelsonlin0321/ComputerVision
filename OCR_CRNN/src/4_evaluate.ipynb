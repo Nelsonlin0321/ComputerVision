{
 "cells": [
  {
   "cell_type": "markdown",
   "metadata": {},
   "source": [
    "# Evaluate"
   ]
  },
  {
   "cell_type": "code",
   "execution_count": 1,
   "metadata": {},
   "outputs": [],
   "source": [
    "import torch\n",
    "from torch.utils.data import DataLoader\n",
    "from torch.nn import CTCLoss\n",
    "from tqdm import tqdm\n",
    "\n",
    "from dataset import Synth90kDataset, synth90k_collate_fn\n",
    "from model import CRNN\n",
    "from ctc_decoder import ctc_decode\n",
    "from config import evaluate_config as config\n",
    "\n",
    "torch.backends.cudnn.enabled = False"
   ]
  },
  {
   "cell_type": "code",
   "execution_count": 2,
   "metadata": {},
   "outputs": [],
   "source": [
    "def evaluate(crnn, dataloader, criterion,\n",
    "             max_iter=None, decode_method='beam_search', beam_size=10):\n",
    "    crnn.eval()\n",
    "\n",
    "    tot_count = 0\n",
    "    tot_loss = 0\n",
    "    tot_correct = 0\n",
    "    wrong_cases = []\n",
    "\n",
    "    pbar_total = max_iter if max_iter else len(dataloader)\n",
    "    pbar = tqdm(total=pbar_total, desc=\"Evaluate\")\n",
    "\n",
    "    with torch.no_grad():\n",
    "        for i, data in enumerate(dataloader):\n",
    "            if max_iter and i >= max_iter:\n",
    "                break\n",
    "            device = 'cuda' if next(crnn.parameters()).is_cuda else 'cpu'\n",
    "\n",
    "            images, targets, target_lengths = [d.to(device) for d in data]\n",
    "\n",
    "            logits = crnn(images)\n",
    "            log_probs = torch.nn.functional.log_softmax(logits, dim=2)\n",
    "\n",
    "            batch_size = images.size(0)\n",
    "            input_lengths = torch.LongTensor([logits.size(0)] * batch_size)\n",
    "\n",
    "            loss = criterion(log_probs, targets, input_lengths, target_lengths)\n",
    "\n",
    "            preds = ctc_decode(log_probs, method=decode_method, beam_size=beam_size)\n",
    "            reals = targets.cpu().numpy().tolist()\n",
    "            target_lengths = target_lengths.cpu().numpy().tolist()\n",
    "\n",
    "            tot_count += batch_size\n",
    "            tot_loss += loss.item()\n",
    "            target_length_counter = 0\n",
    "            for pred, target_length in zip(preds, target_lengths):\n",
    "                real = reals[target_length_counter:target_length_counter + target_length]\n",
    "                target_length_counter += target_length\n",
    "                if pred == real:\n",
    "                    tot_correct += 1\n",
    "                else:\n",
    "                    wrong_cases.append((real, pred))\n",
    "\n",
    "            pbar.update(1)\n",
    "        pbar.close()\n",
    "\n",
    "    evaluation = {\n",
    "        'loss': tot_loss / tot_count,\n",
    "        'acc': tot_correct / tot_count,\n",
    "        'wrong_cases': wrong_cases\n",
    "    }\n",
    "    return evaluation"
   ]
  },
  {
   "cell_type": "code",
   "execution_count": 3,
   "metadata": {},
   "outputs": [],
   "source": [
    "def main():\n",
    "    eval_batch_size = config['eval_batch_size']\n",
    "    cpu_workers = config['cpu_workers']\n",
    "    reload_checkpoint = '../checkpoints/crnn_synth90k.pt'\n",
    "\n",
    "    img_height = config['img_height']\n",
    "    img_width = config['img_width']\n",
    "\n",
    "    device = torch.device('cuda' if torch.cuda.is_available() else 'cpu')\n",
    "    print(f'device: {device}')\n",
    "\n",
    "    test_dataset = Synth90kDataset(root_dir=config['data_dir'], mode='test',\n",
    "                                   img_height=img_height, img_width=img_width)\n",
    "\n",
    "    test_loader = DataLoader(\n",
    "        dataset=test_dataset,\n",
    "        batch_size=eval_batch_size,\n",
    "        shuffle=False,\n",
    "        num_workers=cpu_workers,\n",
    "        collate_fn=synth90k_collate_fn)\n",
    "\n",
    "    num_class = len(Synth90kDataset.LABEL2CHAR) + 1\n",
    "    crnn = CRNN(1, img_height, img_width, num_class,\n",
    "                map_to_seq_hidden=config['map_to_seq_hidden'],\n",
    "                rnn_hidden=config['rnn_hidden'],\n",
    "                leaky_relu=config['leaky_relu'])\n",
    "    crnn.load_state_dict(torch.load(reload_checkpoint, map_location=device))\n",
    "    crnn.to(device)\n",
    "\n",
    "    criterion = CTCLoss(reduction='sum')\n",
    "    criterion.to(device)\n",
    "\n",
    "    evaluation = evaluate(crnn, test_loader, criterion,\n",
    "                          decode_method=config['decode_method'],\n",
    "                          beam_size=config['beam_size'])\n",
    "    print('test_evaluation: loss={loss}, acc={acc}'.format(**evaluation))\n"
   ]
  },
  {
   "cell_type": "code",
   "execution_count": 4,
   "metadata": {},
   "outputs": [],
   "source": [
    "# main()"
   ]
  },
  {
   "cell_type": "code",
   "execution_count": 5,
   "metadata": {},
   "outputs": [
    {
     "name": "stdout",
     "output_type": "stream",
     "text": [
      "device: cuda\n"
     ]
    },
    {
     "data": {
      "text/plain": [
       "<All keys matched successfully>"
      ]
     },
     "execution_count": 5,
     "metadata": {},
     "output_type": "execute_result"
    },
    {
     "data": {
      "text/plain": [
       "CRNN(\n",
       "  (cnn): Sequential(\n",
       "    (conv0): Conv2d(1, 64, kernel_size=(3, 3), stride=(1, 1), padding=(1, 1))\n",
       "    (relu0): ReLU(inplace=True)\n",
       "    (pooling0): MaxPool2d(kernel_size=2, stride=2, padding=0, dilation=1, ceil_mode=False)\n",
       "    (conv1): Conv2d(64, 128, kernel_size=(3, 3), stride=(1, 1), padding=(1, 1))\n",
       "    (relu1): ReLU(inplace=True)\n",
       "    (pooling1): MaxPool2d(kernel_size=2, stride=2, padding=0, dilation=1, ceil_mode=False)\n",
       "    (conv2): Conv2d(128, 256, kernel_size=(3, 3), stride=(1, 1), padding=(1, 1))\n",
       "    (relu2): ReLU(inplace=True)\n",
       "    (conv3): Conv2d(256, 256, kernel_size=(3, 3), stride=(1, 1), padding=(1, 1))\n",
       "    (relu3): ReLU(inplace=True)\n",
       "    (pooling2): MaxPool2d(kernel_size=(2, 1), stride=(2, 1), padding=0, dilation=1, ceil_mode=False)\n",
       "    (conv4): Conv2d(256, 512, kernel_size=(3, 3), stride=(1, 1), padding=(1, 1))\n",
       "    (batchnorm4): BatchNorm2d(512, eps=1e-05, momentum=0.1, affine=True, track_running_stats=True)\n",
       "    (relu4): ReLU(inplace=True)\n",
       "    (conv5): Conv2d(512, 512, kernel_size=(3, 3), stride=(1, 1), padding=(1, 1))\n",
       "    (batchnorm5): BatchNorm2d(512, eps=1e-05, momentum=0.1, affine=True, track_running_stats=True)\n",
       "    (relu5): ReLU(inplace=True)\n",
       "    (pooling3): MaxPool2d(kernel_size=(2, 1), stride=(2, 1), padding=0, dilation=1, ceil_mode=False)\n",
       "    (conv6): Conv2d(512, 512, kernel_size=(2, 2), stride=(1, 1))\n",
       "    (relu6): ReLU(inplace=True)\n",
       "  )\n",
       "  (map_to_seq): Linear(in_features=512, out_features=64, bias=True)\n",
       "  (rnn1): LSTM(64, 256, bidirectional=True)\n",
       "  (rnn2): LSTM(512, 256, bidirectional=True)\n",
       "  (dense): Linear(in_features=512, out_features=37, bias=True)\n",
       ")"
      ]
     },
     "execution_count": 5,
     "metadata": {},
     "output_type": "execute_result"
    },
    {
     "data": {
      "text/plain": [
       "CTCLoss()"
      ]
     },
     "execution_count": 5,
     "metadata": {},
     "output_type": "execute_result"
    }
   ],
   "source": [
    "eval_batch_size = config['eval_batch_size']\n",
    "cpu_workers = config['cpu_workers']\n",
    "cpu_workers  =0 \n",
    "reload_checkpoint = '../checkpoints/crnn_synth90k.pt'\n",
    "\n",
    "img_height = config['img_height']\n",
    "img_width = config['img_width']\n",
    "\n",
    "device = torch.device('cuda' if torch.cuda.is_available() else 'cpu')\n",
    "print(f'device: {device}')\n",
    "\n",
    "test_dataset = Synth90kDataset(root_dir=config['data_dir'], mode='test',\n",
    "                               img_height=img_height, img_width=img_width)\n",
    "\n",
    "test_loader = DataLoader(\n",
    "    dataset=test_dataset,\n",
    "    batch_size=eval_batch_size,\n",
    "    shuffle=False,\n",
    "    num_workers=cpu_workers,\n",
    "    collate_fn=synth90k_collate_fn)\n",
    "\n",
    "num_class = len(Synth90kDataset.LABEL2CHAR) + 1\n",
    "crnn = CRNN(1, img_height, img_width, num_class,\n",
    "            map_to_seq_hidden=config['map_to_seq_hidden'],\n",
    "            rnn_hidden=config['rnn_hidden'],\n",
    "            leaky_relu=config['leaky_relu'])\n",
    "crnn.load_state_dict(torch.load(reload_checkpoint, map_location=device))\n",
    "crnn.to(device)\n",
    "\n",
    "criterion = CTCLoss(reduction='sum')\n",
    "criterion.to(device)"
   ]
  },
  {
   "cell_type": "code",
   "execution_count": 6,
   "metadata": {},
   "outputs": [],
   "source": [
    "## testing\n",
    "i = 0\n",
    "for test_data in test_loader:\n",
    "    data = test_data\n",
    "    i+=1\n",
    "    if i==1:\n",
    "        break"
   ]
  },
  {
   "cell_type": "code",
   "execution_count": 9,
   "metadata": {},
   "outputs": [],
   "source": [
    "decode_method='beam_search'\n",
    "beam_size = 10"
   ]
  },
  {
   "cell_type": "code",
   "execution_count": 11,
   "metadata": {},
   "outputs": [],
   "source": [
    "with torch.no_grad():\n",
    "    device = 'cuda' if next(crnn.parameters()).is_cuda else 'cpu'\n",
    "\n",
    "    images, targets, target_lengths = [d.to(device) for d in data]\n",
    "\n",
    "    logits = crnn(images)\n",
    "    log_probs = torch.nn.functional.log_softmax(logits, dim=2)\n",
    "\n",
    "    batch_size = images.size(0)\n",
    "    input_lengths = torch.LongTensor([logits.size(0)] * batch_size)\n",
    "\n",
    "    loss = criterion(log_probs, targets, input_lengths, target_lengths)\n",
    "\n",
    "    preds = ctc_decode(log_probs, method=decode_method, beam_size=beam_size)\n",
    "    reals = targets.cpu().numpy().tolist()\n",
    "    target_lengths = target_lengths.cpu().numpy().tolist()"
   ]
  },
  {
   "cell_type": "code",
   "execution_count": 16,
   "metadata": {},
   "outputs": [
    {
     "data": {
      "text/plain": [
       "torch.Size([24, 234, 37])"
      ]
     },
     "execution_count": 16,
     "metadata": {},
     "output_type": "execute_result"
    }
   ],
   "source": [
    "log_probs.shape"
   ]
  },
  {
   "cell_type": "code",
   "execution_count": 20,
   "metadata": {},
   "outputs": [],
   "source": [
    "tot_count = 0\n",
    "tot_loss = 0\n",
    "tot_correct = 0\n",
    "wrong_cases = []"
   ]
  },
  {
   "cell_type": "code",
   "execution_count": 21,
   "metadata": {},
   "outputs": [],
   "source": [
    "tot_count += batch_size\n",
    "tot_loss += loss.item()\n",
    "target_length_counter = 0\n",
    "for pred, target_length in zip(preds, target_lengths):\n",
    "    real = reals[target_length_counter:target_length_counter + target_length]\n",
    "    target_length_counter += target_length\n",
    "    if pred == real:\n",
    "        tot_correct += 1\n",
    "    else:\n",
    "        wrong_cases.append((real, pred))"
   ]
  },
  {
   "cell_type": "code",
   "execution_count": 26,
   "metadata": {},
   "outputs": [
    {
     "data": {
      "text/plain": [
       "[32, 15, 15, 20, 11, 35, 29]"
      ]
     },
     "execution_count": 26,
     "metadata": {},
     "output_type": "execute_result"
    }
   ],
   "source": [
    "pred  ### only once evey elements of sequences is correct, this same can be deemed as correct.  "
   ]
  },
  {
   "cell_type": "code",
   "execution_count": 27,
   "metadata": {},
   "outputs": [
    {
     "data": {
      "text/plain": [
       "[32, 15, 15, 20, 11, 35, 29]"
      ]
     },
     "execution_count": 27,
     "metadata": {},
     "output_type": "execute_result"
    }
   ],
   "source": [
    "real"
   ]
  },
  {
   "cell_type": "code",
   "execution_count": null,
   "metadata": {},
   "outputs": [],
   "source": []
  }
 ],
 "metadata": {
  "kernelspec": {
   "display_name": "Python 3",
   "language": "python",
   "name": "python3"
  },
  "language_info": {
   "codemirror_mode": {
    "name": "ipython",
    "version": 3
   },
   "file_extension": ".py",
   "mimetype": "text/x-python",
   "name": "python",
   "nbconvert_exporter": "python",
   "pygments_lexer": "ipython3",
   "version": "3.6.10"
  }
 },
 "nbformat": 4,
 "nbformat_minor": 4
}
